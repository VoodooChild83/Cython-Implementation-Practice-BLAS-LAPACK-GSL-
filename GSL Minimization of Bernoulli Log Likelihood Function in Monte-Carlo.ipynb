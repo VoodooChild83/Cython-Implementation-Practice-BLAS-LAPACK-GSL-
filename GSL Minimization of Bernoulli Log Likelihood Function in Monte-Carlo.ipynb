{
 "cells": [
  {
   "cell_type": "markdown",
   "metadata": {
    "deletable": true,
    "editable": true
   },
   "source": [
    "## Cython/Python of the Bernoulli Distribution with MultiMin\n",
    "\n",
    "Here we will program the above cells in Python and call a Monte-Carlo function to yield us the outputs we desire. The Monte-Carlo function will be written in Cython and we will use the %timeit cell magic to give us a run-time of our Cython function. \n",
    "\n",
    "Here we are forced to use MultiMin because the behaviour of the Bernoulli log likelihood function does not behave in such a way that a minimum can be found using the normal univariate minimization routine. Moreover, we are forced to transform the probability to lie within [0,1] given the use of logs. "
   ]
  },
  {
   "cell_type": "markdown",
   "metadata": {
    "deletable": true,
    "editable": true
   },
   "source": [
    "### Cython Function"
   ]
  },
  {
   "cell_type": "code",
   "execution_count": 1,
   "metadata": {
    "collapsed": false,
    "deletable": true,
    "editable": true
   },
   "outputs": [],
   "source": [
    "%load_ext cython"
   ]
  },
  {
   "cell_type": "code",
   "execution_count": 2,
   "metadata": {
    "collapsed": false,
    "deletable": true,
    "editable": true
   },
   "outputs": [],
   "source": [
    "%%cython -lgsl -lgslcblas\n",
    "\n",
    "#!python\n",
    "#cython: boundscheck=False, wraparound=False, nonecheck=False, cdivision=True\n",
    "\n",
    "#Import modules: \n",
    "\n",
    "from libc.stdlib cimport rand, RAND_MAX, malloc, realloc, free, abort\n",
    "from libc.math cimport log, sin\n",
    "\n",
    "#Use the CythonGSL package to get the low-level routines\n",
    "from cython_gsl cimport *\n",
    "\n",
    "######################### Define the Data Structure ############################\n",
    "\n",
    "cdef struct Parameters:\n",
    "    #Pointer for Y data array\n",
    "    double* Y\n",
    "    #size of the array\n",
    "    int* Size\n",
    "    \n",
    "############################# Global Variables ################################\n",
    "\n",
    "cdef double bounds[2]\n",
    "\n",
    "################ Support Functions for Monte-Carlo Function ##################\n",
    "\n",
    "#Create a function that allocates the memory and verifies integrity\n",
    "cdef int alloc_struct(Parameters* data, int* N, unsigned int flag) nogil:\n",
    "    \n",
    "    cdef int Mem_Int = True\n",
    "    \n",
    "    #fill in the size of the array\n",
    "    data.Size = N\n",
    "    \n",
    "    #allocate the data array initially\n",
    "    if flag==0:\n",
    "        data.Y = <double*> malloc(N[0] * sizeof(double))\n",
    "    #reallocate the data array\n",
    "    else:\n",
    "        data.Y = <double*> realloc(data.Y, N[0] * sizeof(double))\n",
    "    \n",
    "    #If the elements of the struct are not properly allocated, destory it and return null\n",
    "    if N[0]!=0 and data.Y==NULL:\n",
    "        \n",
    "        #return the memory to system\n",
    "        destroy_struct(data)\n",
    "        \n",
    "        #update the memory integrity variable to False\n",
    "        Mem_Int = False\n",
    "    \n",
    "    return Mem_Int\n",
    "\n",
    "#Create the destructor of the struct to return memory to system\n",
    "cdef void destroy_struct(Parameters* data) nogil:\n",
    "    free(data.Y)\n",
    "    free(data)\n",
    "\n",
    "#This function fills in the Y observed variable with discreet 0/1\n",
    "cdef void Y_fill(Parameters* data, double p_true) nogil:\n",
    "    \n",
    "    cdef:\n",
    "        Py_ssize_t i\n",
    "        double y\n",
    "    \n",
    "    for i in range(data.Size[0]):\n",
    "        \n",
    "        y = rand()/<double>RAND_MAX\n",
    "        \n",
    "        if y <= p_true:\n",
    "            data.Y[i] = 1.0\n",
    "        else: data.Y[i] = 0.0\n",
    "\n",
    "#Definition of the function to be maximized: LLF of Bernoulli\n",
    "cdef double LLF(gsl_vector* v, void* data) nogil:\n",
    "    \n",
    "    cdef:\n",
    "        #the sample structure (considered the parameter here), recast\n",
    "        Parameters* sample = <Parameters*> data\n",
    "        \n",
    "        #the loop variables\n",
    "        Py_ssize_t i\n",
    "        int n = sample.Size[0]\n",
    "        \n",
    "        #other variables\n",
    "        double Sum = 0, p = gsl_vector_get(v, 0), p_tran\n",
    "    \n",
    "    #Transform variable to bound the value between (0,1)\n",
    "    p_tran = ((bounds[0] + bounds[1])/2) + ((bounds[0] - bounds[1])/2)*sin(p)\n",
    "    \n",
    "    for i in range(n):\n",
    "        \n",
    "        if sample.Y[i]==1.0: Sum += log(p_tran)\n",
    "        else: Sum += log(1-p_tran)\n",
    "    \n",
    "    return (-(Sum/n))\n",
    "\n",
    "########################## Monte-Carlo Function ##############################\n",
    "\n",
    "cpdef void Monte_Carlo(int[::1] Samples, double[:,::1] p_hat, \n",
    "                       int Sims, double p_true) nogil:\n",
    "     \n",
    "    #Define variables and pointers\n",
    "    \n",
    "    global bounds\n",
    "    \n",
    "    bounds[0] = 0; bounds[1] = 1\n",
    "    \n",
    "    cdef:\n",
    "        #Data Structure\n",
    "        Parameters* Data\n",
    "            \n",
    "        #iterators\n",
    "        Py_ssize_t i, j, k\n",
    "        int status, Iter, max_Iter = 1000 \n",
    "        \n",
    "        #Variables\n",
    "        int N = Samples.shape[0], Mem_Int\n",
    "        double tol = 1e-6, size\n",
    "        \n",
    "        #GSL objects and pointer\n",
    "        const gsl_multimin_fminimizer_type* T\n",
    "        gsl_multimin_fminimizer* s\n",
    "        gsl_multimin_function F\n",
    "        gsl_vector *ss\n",
    "        gsl_vector *x\n",
    "    \n",
    "    #Allocate the minimization routine (multimin)\n",
    "    T = gsl_multimin_fminimizer_nmsimplex\n",
    "    s = gsl_multimin_fminimizer_alloc(T,1)\n",
    "    \n",
    "    #Allocate the Step Size and variable vector\n",
    "    ss = gsl_vector_alloc(1)\n",
    "    x = gsl_vector_alloc(1)\n",
    "    \n",
    "    #allocate the struct dynamically\n",
    "    Data = <Parameters*> malloc(sizeof(Parameters))\n",
    "    \n",
    "    #verify memory integrity\n",
    "    if Data==NULL or s==NULL or ss==NULL or x==NULL: abort()\n",
    "        \n",
    "    #Set the GSL function\n",
    "    F.n = 1\n",
    "    F.f = &LLF\n",
    "    F.params = <void*> Data\n",
    "    \n",
    "    #Allocate the Step Size vector\n",
    "    gsl_vector_set(ss,0,0.5)\n",
    "    \n",
    "    try:\n",
    "        \n",
    "        for i in range(N): \n",
    "\n",
    "            #allocate the elements of the struct (if i>0, reallocate data array)\n",
    "            Mem_Int = alloc_struct(Data, &Samples[i], i)\n",
    "\n",
    "            #verify memory integrity\n",
    "            if Mem_Int==False: abort() \n",
    "\n",
    "            for j in range(Sims):\n",
    "\n",
    "                #fill the array in the struct\n",
    "                Y_fill(Data, p_true)\n",
    "                \n",
    "                #set the starting value (random number)\n",
    "                gsl_vector_set(x, 0, rand()/RAND_MAX)\n",
    "               \n",
    "                #set the minimizer\n",
    "                gsl_multimin_fminimizer_set(s, &F, x, ss)\n",
    "\n",
    "                #initialize conditions\n",
    "                Iter = 0\n",
    "                status = GSL_CONTINUE\n",
    "\n",
    "                while (status == GSL_CONTINUE and Iter <= max_Iter):\n",
    "                    \n",
    "                    Iter += 1\n",
    "                    status = gsl_multimin_fminimizer_iterate(s)\n",
    "\n",
    "                    if status:\n",
    "                        break\n",
    "\n",
    "                    size = gsl_multimin_fminimizer_size(s)\n",
    "                    status = gsl_multimin_test_size(size, tol)\n",
    "\n",
    "                    if status==GSL_SUCCESS:\n",
    "                        p_hat[i,j] = gsl_vector_get(s.x,0)\n",
    "\n",
    "    finally:\n",
    "        destroy_struct(Data)\n",
    "        gsl_multimin_fminimizer_free(s)\n",
    "        gsl_vector_free(x)\n",
    "        gsl_vector_free(ss)"
   ]
  },
  {
   "cell_type": "markdown",
   "metadata": {
    "deletable": true,
    "editable": true
   },
   "source": [
    "### Python Portion and Cython Function Call"
   ]
  },
  {
   "cell_type": "code",
   "execution_count": 3,
   "metadata": {
    "collapsed": true,
    "deletable": true,
    "editable": true
   },
   "outputs": [],
   "source": [
    "import numpy as np"
   ]
  },
  {
   "cell_type": "code",
   "execution_count": 4,
   "metadata": {
    "collapsed": false,
    "deletable": true,
    "editable": true
   },
   "outputs": [],
   "source": [
    "#First we will recreate the first cell in the matlab example in python\n",
    "\n",
    "#Sample Sizes\n",
    "N = np.array([5,50,500,5000], dtype='i')\n",
    "\n",
    "#Parameters for MC\n",
    "T = 1000\n",
    "p_true = 0.2\n",
    "\n",
    "#Array of the outputs from the MC\n",
    "p_hat = np.empty((N.size,T), dtype='d')\n",
    "p_hat.fill(np.nan)"
   ]
  },
  {
   "cell_type": "code",
   "execution_count": 5,
   "metadata": {
    "collapsed": false,
    "deletable": true,
    "editable": true
   },
   "outputs": [
    {
     "name": "stdout",
     "output_type": "stream",
     "text": [
      "1 loop, best of 3: 1.96 s per loop\n"
     ]
    }
   ],
   "source": [
    "%timeit Monte_Carlo(N, p_hat, T, p_true)"
   ]
  },
  {
   "cell_type": "code",
   "execution_count": 7,
   "metadata": {
    "collapsed": false
   },
   "outputs": [
    {
     "data": {
      "text/plain": [
       "array([ 0.80281857,  0.64867009,  0.64455261,  0.6431447 ])"
      ]
     },
     "execution_count": 7,
     "metadata": {},
     "output_type": "execute_result"
    }
   ],
   "source": [
    "p_hat.mean(axis=1)"
   ]
  },
  {
   "cell_type": "code",
   "execution_count": null,
   "metadata": {
    "collapsed": true
   },
   "outputs": [],
   "source": []
  }
 ],
 "metadata": {
  "kernelspec": {
   "display_name": "Python 3",
   "language": "python",
   "name": "python3"
  },
  "language_info": {
   "codemirror_mode": {
    "name": "ipython",
    "version": 3
   },
   "file_extension": ".py",
   "mimetype": "text/x-python",
   "name": "python",
   "nbconvert_exporter": "python",
   "pygments_lexer": "ipython3",
   "version": "3.6.0"
  }
 },
 "nbformat": 4,
 "nbformat_minor": 2
}
